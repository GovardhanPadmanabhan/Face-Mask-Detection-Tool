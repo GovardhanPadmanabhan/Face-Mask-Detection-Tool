{
  "nbformat": 4,
  "nbformat_minor": 0,
  "metadata": {
    "colab": {
      "name": "(2) Using Pre-Trained Model.ipynb",
      "provenance": []
    },
    "kernelspec": {
      "name": "python3",
      "display_name": "Python 3"
    },
    "language_info": {
      "name": "python"
    }
  },
  "cells": [
    {
      "cell_type": "markdown",
      "metadata": {
        "id": "Pz9Hxnx-toOX"
      },
      "source": [
        "Import Library"
      ]
    },
    {
      "cell_type": "code",
      "metadata": {
        "id": "79UY6BTgtIfE"
      },
      "source": [
        "import numpy as np\n",
        "from tensorflow.keras.models import load_model          # to load the saved h5 model\n",
        "from tensorflow.keras.preprocessing import image        # to handle and augment image data\n",
        "from IPython.display import Image, display              # to display output images"
      ],
      "execution_count": null,
      "outputs": []
    },
    {
      "cell_type": "markdown",
      "metadata": {
        "id": "2ScGRqGJtZrf"
      },
      "source": [
        "Load Model<br>  \n",
        "\n",
        "(*Either download model from Github or use the model generated from notebook 1*)"
      ]
    },
    {
      "cell_type": "code",
      "metadata": {
        "id": "WIcGj7-LGNGH"
      },
      "source": [
        "# download the model\n",
        "! wget -O face_mask_detector.h5 https://github.com/GovardhanPadmanabhan/Face-Mask-Detection-Tool/blob/main/face_mask_detector.h5?raw=true"
      ],
      "execution_count": null,
      "outputs": []
    },
    {
      "cell_type": "code",
      "metadata": {
        "id": "QcSQH6IBtsjr"
      },
      "source": [
        "model = load_model('face_mask_detector.h5')"
      ],
      "execution_count": null,
      "outputs": []
    },
    {
      "cell_type": "code",
      "metadata": {
        "id": "eBwR4MCvuMZM"
      },
      "source": [
        "model.summary()"
      ],
      "execution_count": null,
      "outputs": []
    },
    {
      "cell_type": "markdown",
      "metadata": {
        "id": "5Z3d0WIwyHOl"
      },
      "source": [
        "Specify Image Path"
      ]
    },
    {
      "cell_type": "code",
      "metadata": {
        "id": "oCNSOO6IyOYq"
      },
      "source": [
        "img_directory = \".jpg\"                  # Enter the directory of the single test image here"
      ],
      "execution_count": null,
      "outputs": []
    },
    {
      "cell_type": "markdown",
      "metadata": {
        "id": "ujh-5_ePySyZ"
      },
      "source": [
        "Augment the Image"
      ]
    },
    {
      "cell_type": "code",
      "metadata": {
        "id": "mmL3noNiyvX3"
      },
      "source": [
        "# load the image from the directory\n",
        "# reshape image to (70, 70)\n",
        "img_data = image.load_img(img_directory, target_size = (70, 70))\n",
        "\n",
        "# convert the image to a Numpy array\n",
        "img_data = image.img_to_array(img_data)\n",
        "\n",
        "# expand the array shape\n",
        "img_data = np.expand_dims(img_data, axis = 0)"
      ],
      "execution_count": null,
      "outputs": []
    },
    {
      "cell_type": "markdown",
      "metadata": {
        "id": "8EhGj0NMuy5J"
      },
      "source": [
        "Classify Image"
      ]
    },
    {
      "cell_type": "code",
      "metadata": {
        "id": "T2KUeCpbvnPh"
      },
      "source": [
        "# make the model prediction\n",
        "classify = model.predict(img_data)\n",
        "\n",
        "# display the image\n",
        "display(Image(img_directory, width= 150, height=150))\n",
        "\n",
        "print(\"\\n\")\n",
        "\n",
        "# print the classification statement\n",
        "if(int(classify[0][0]) == 0):\n",
        "    print(\"The person is wearing a mask. \\n\")\n",
        "else:\n",
        "    print(\"The person is not wearing a mask.\\n\")"
      ],
      "execution_count": null,
      "outputs": []
    }
  ]
}